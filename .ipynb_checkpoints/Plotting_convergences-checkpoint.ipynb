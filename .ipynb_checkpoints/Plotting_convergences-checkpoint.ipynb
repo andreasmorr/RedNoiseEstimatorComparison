{
 "cells": [
  {
   "cell_type": "code",
   "execution_count": 5,
   "id": "616a1d0a",
   "metadata": {},
   "outputs": [],
   "source": [
    "import SampleGeneration\n",
    "import EstimationMethods\n",
    "import WindowEstimation\n",
    "import MethodComparisons\n",
    "import importlib\n",
    "importlib.reload(SampleGeneration)\n",
    "importlib.reload(EstimationMethods)\n",
    "importlib.reload(WindowEstimation)\n",
    "importlib.reload(MethodComparisons)\n",
    "import matplotlib.pyplot as plt\n",
    "import numpy as np"
   ]
  },
  {
   "cell_type": "code",
   "execution_count": 6,
   "id": "b4982756",
   "metadata": {},
   "outputs": [],
   "source": [
    "results_against_n = []\n",
    "ns=[100,150,200,300,400,500,600,700,800,900,1000,1100]\n",
    "lambda_=0.3\n",
    "theta_=2\n",
    "kappa_=1\n",
    "sample_size=3000\n",
    "oversampling=100"
   ]
  },
  {
   "cell_type": "code",
   "execution_count": 7,
   "id": "123077a7",
   "metadata": {},
   "outputs": [
    {
     "name": "stdout",
     "output_type": "stream",
     "text": [
      "100\n",
      "Start time: 2023-03-07 15:23:55; Progress: 0%\n",
      "End time: 2023-03-07 15:25:55; Progress: 0%\n",
      "150\n",
      "Start time: 2023-03-07 15:25:45; Progress: 0%\n",
      "End time: 2023-03-07 15:28:24; Progress: 0%\n",
      "200\n",
      "Start time: 2023-03-07 15:28:14; Progress: 0%\n",
      "End time: 2023-03-07 15:31:10; Progress: 0%\n",
      "300\n",
      "Start time: 2023-03-07 15:31:19; Progress: 0%\n",
      "End time: 2023-03-07 15:35:25; Progress: 0%\n",
      "400\n",
      "Start time: 2023-03-07 15:35:53; Progress: 0%\n",
      "End time: 2023-03-07 15:41:32; Progress: 0%\n",
      "500\n",
      "Start time: 2023-03-07 15:41:33; Progress: 0%\n",
      "End time: 2023-03-07 15:48:34; Progress: 0%\n",
      "600\n",
      "Start time: 2023-03-07 15:48:31; Progress: 0%\n",
      "End time: 2023-03-07 15:56:57; Progress: 0%\n",
      "700\n",
      "Start time: 2023-03-07 15:56:48; Progress: 0%\n",
      "End time: 2023-03-07 16:06:18; Progress: 0%\n"
     ]
    },
    {
     "ename": "KeyboardInterrupt",
     "evalue": "",
     "output_type": "error",
     "traceback": [
      "\u001b[0;31m---------------------------------------------------------------------------\u001b[0m",
      "\u001b[0;31mKeyboardInterrupt\u001b[0m                         Traceback (most recent call last)",
      "Cell \u001b[0;32mIn[7], line 3\u001b[0m\n\u001b[1;32m      1\u001b[0m \u001b[38;5;28;01mfor\u001b[39;00m n \u001b[38;5;129;01min\u001b[39;00m ns:\n\u001b[1;32m      2\u001b[0m     \u001b[38;5;28mprint\u001b[39m(n)\n\u001b[0;32m----> 3\u001b[0m     results_n \u001b[38;5;241m=\u001b[39m \u001b[43mMethodComparisons\u001b[49m\u001b[38;5;241;43m.\u001b[39;49m\u001b[43mestimator_distributions\u001b[49m\u001b[43m(\u001b[49m\u001b[43msample_size\u001b[49m\u001b[38;5;241;43m=\u001b[39;49m\u001b[43msample_size\u001b[49m\u001b[43m,\u001b[49m\u001b[43m \u001b[49m\u001b[43mn\u001b[49m\u001b[38;5;241;43m=\u001b[39;49m\u001b[43mn\u001b[49m\u001b[43m,\u001b[49m\u001b[43m \u001b[49m\u001b[43moversampling\u001b[49m\u001b[38;5;241;43m=\u001b[39;49m\u001b[43moversampling\u001b[49m\u001b[43m,\u001b[49m\u001b[43m \u001b[49m\u001b[43mlambda_\u001b[49m\u001b[38;5;241;43m=\u001b[39;49m\u001b[43mlambda_\u001b[49m\u001b[43m,\u001b[49m\u001b[43m \u001b[49m\u001b[43mtheta_\u001b[49m\u001b[38;5;241;43m=\u001b[39;49m\u001b[43mtheta_\u001b[49m\u001b[43m,\u001b[49m\u001b[43m \u001b[49m\u001b[43mkappa_\u001b[49m\u001b[38;5;241;43m=\u001b[39;49m\u001b[43mkappa_\u001b[49m\u001b[43m,\u001b[49m\u001b[43m \u001b[49m\u001b[43minitial\u001b[49m\u001b[38;5;241;43m=\u001b[39;49m\u001b[43m[\u001b[49m\u001b[38;5;241;43m1\u001b[39;49m\u001b[43m,\u001b[49m\u001b[38;5;241;43m1\u001b[39;49m\u001b[43m,\u001b[49m\u001b[38;5;241;43m1\u001b[39;49m\u001b[43m]\u001b[49m\u001b[43m,\u001b[49m\u001b[43m \u001b[49m\u001b[43mrelevant_lags\u001b[49m\u001b[43m \u001b[49m\u001b[38;5;241;43m=\u001b[39;49m\u001b[43m \u001b[49m\u001b[38;5;241;43m3\u001b[39;49m\u001b[43m)\u001b[49m\n\u001b[1;32m      4\u001b[0m     results_against_n\u001b[38;5;241m.\u001b[39mappend(results_n)\n",
      "File \u001b[0;32m~/Library/Mobile Documents/com~apple~CloudDocs/PhD Studium/Eigene Papers/EstimationLandscape/Public Code/MethodComparisons.py:33\u001b[0m, in \u001b[0;36mestimator_distributions\u001b[0;34m(sample_size, n, oversampling, lambda_, theta_, kappa_, initial, relevant_lags)\u001b[0m\n\u001b[1;32m     30\u001b[0m     this_result \u001b[38;5;241m=\u001b[39m []\n\u001b[1;32m     31\u001b[0m     \u001b[38;5;28;01mfor\u001b[39;00m method \u001b[38;5;129;01min\u001b[39;00m [EstimationMethods\u001b[38;5;241m.\u001b[39mcalculate_var, EstimationMethods\u001b[38;5;241m.\u001b[39mcalculate_acor1, EstimationMethods\u001b[38;5;241m.\u001b[39mlambda_acs,\n\u001b[1;32m     32\u001b[0m                    EstimationMethods\u001b[38;5;241m.\u001b[39mlambda_psd]:\n\u001b[0;32m---> 33\u001b[0m         this_result\u001b[38;5;241m.\u001b[39mappend(\u001b[43mmethod\u001b[49m\u001b[43m(\u001b[49m\u001b[43msample\u001b[49m\u001b[43m,\u001b[49m\u001b[43m \u001b[49m\u001b[43minitial\u001b[49m\u001b[38;5;241;43m=\u001b[39;49m\u001b[43minitial\u001b[49m\u001b[43m,\u001b[49m\u001b[43m \u001b[49m\u001b[43mrelevant_lags\u001b[49m\u001b[38;5;241;43m=\u001b[39;49m\u001b[43mrelevant_lags\u001b[49m\u001b[43m)\u001b[49m)\n\u001b[1;32m     34\u001b[0m     results\u001b[38;5;241m.\u001b[39mappend(this_result)\n\u001b[1;32m     35\u001b[0m \u001b[38;5;28;01mreturn\u001b[39;00m np\u001b[38;5;241m.\u001b[39mtranspose(np\u001b[38;5;241m.\u001b[39marray(results))\n",
      "File \u001b[0;32m~/Library/Mobile Documents/com~apple~CloudDocs/PhD Studium/Eigene Papers/EstimationLandscape/Public Code/EstimationMethods.py:73\u001b[0m, in \u001b[0;36mlambda_psd\u001b[0;34m(timeseries, return_all_params, **kwargs)\u001b[0m\n\u001b[1;32m     71\u001b[0m \u001b[38;5;28;01mdef\u001b[39;00m \u001b[38;5;21mlambda_psd\u001b[39m(timeseries, return_all_params\u001b[38;5;241m=\u001b[39m\u001b[38;5;28;01mFalse\u001b[39;00m, \u001b[38;5;241m*\u001b[39m\u001b[38;5;241m*\u001b[39mkwargs):\n\u001b[1;32m     72\u001b[0m     observed_psd \u001b[38;5;241m=\u001b[39m np\u001b[38;5;241m.\u001b[39mlog(frequency_mean(power_spectrum(timeseries)))\n\u001b[0;32m---> 73\u001b[0m     params \u001b[38;5;241m=\u001b[39m \u001b[43moptimize\u001b[49m\u001b[38;5;241;43m.\u001b[39;49m\u001b[43mfmin\u001b[49m\u001b[43m(\u001b[49m\u001b[43merror_psd\u001b[49m\u001b[43m,\u001b[49m\u001b[43m \u001b[49m\u001b[43mkwargs\u001b[49m\u001b[43m[\u001b[49m\u001b[38;5;124;43m\"\u001b[39;49m\u001b[38;5;124;43minitial\u001b[39;49m\u001b[38;5;124;43m\"\u001b[39;49m\u001b[43m]\u001b[49m\u001b[43m,\u001b[49m\u001b[43m \u001b[49m\u001b[43margs\u001b[49m\u001b[38;5;241;43m=\u001b[39;49m\u001b[43m(\u001b[49m\u001b[38;5;28;43mlen\u001b[39;49m\u001b[43m(\u001b[49m\u001b[43mtimeseries\u001b[49m\u001b[43m)\u001b[49m\u001b[43m,\u001b[49m\u001b[43m \u001b[49m\u001b[43mobserved_psd\u001b[49m\u001b[43m)\u001b[49m\u001b[43m,\u001b[49m\u001b[43m \u001b[49m\u001b[43mdisp\u001b[49m\u001b[38;5;241;43m=\u001b[39;49m\u001b[38;5;28;43;01mFalse\u001b[39;49;00m\u001b[43m)\u001b[49m\n\u001b[1;32m     74\u001b[0m     \u001b[38;5;28;01mif\u001b[39;00m return_all_params:\n\u001b[1;32m     75\u001b[0m         \u001b[38;5;28;01mreturn\u001b[39;00m [np\u001b[38;5;241m.\u001b[39mmin([np\u001b[38;5;241m.\u001b[39mabs(params[\u001b[38;5;241m0\u001b[39m]), np\u001b[38;5;241m.\u001b[39mabs(params[\u001b[38;5;241m1\u001b[39m])]), np\u001b[38;5;241m.\u001b[39mmax([np\u001b[38;5;241m.\u001b[39mabs(params[\u001b[38;5;241m0\u001b[39m]), np\u001b[38;5;241m.\u001b[39mabs(params[\u001b[38;5;241m1\u001b[39m])]),\n\u001b[1;32m     76\u001b[0m                 np\u001b[38;5;241m.\u001b[39mabs(params[\u001b[38;5;241m2\u001b[39m])]\n",
      "File \u001b[0;32m/opt/homebrew/Caskroom/miniforge/base/lib/python3.9/site-packages/scipy/optimize/_optimize.py:695\u001b[0m, in \u001b[0;36mfmin\u001b[0;34m(func, x0, args, xtol, ftol, maxiter, maxfun, full_output, disp, retall, callback, initial_simplex)\u001b[0m\n\u001b[1;32m    586\u001b[0m \u001b[38;5;250m\u001b[39m\u001b[38;5;124;03m\"\"\"\u001b[39;00m\n\u001b[1;32m    587\u001b[0m \u001b[38;5;124;03mMinimize a function using the downhill simplex algorithm.\u001b[39;00m\n\u001b[1;32m    588\u001b[0m \n\u001b[0;32m   (...)\u001b[0m\n\u001b[1;32m    685\u001b[0m \n\u001b[1;32m    686\u001b[0m \u001b[38;5;124;03m\"\"\"\u001b[39;00m\n\u001b[1;32m    687\u001b[0m opts \u001b[38;5;241m=\u001b[39m {\u001b[38;5;124m'\u001b[39m\u001b[38;5;124mxatol\u001b[39m\u001b[38;5;124m'\u001b[39m: xtol,\n\u001b[1;32m    688\u001b[0m         \u001b[38;5;124m'\u001b[39m\u001b[38;5;124mfatol\u001b[39m\u001b[38;5;124m'\u001b[39m: ftol,\n\u001b[1;32m    689\u001b[0m         \u001b[38;5;124m'\u001b[39m\u001b[38;5;124mmaxiter\u001b[39m\u001b[38;5;124m'\u001b[39m: maxiter,\n\u001b[0;32m   (...)\u001b[0m\n\u001b[1;32m    692\u001b[0m         \u001b[38;5;124m'\u001b[39m\u001b[38;5;124mreturn_all\u001b[39m\u001b[38;5;124m'\u001b[39m: retall,\n\u001b[1;32m    693\u001b[0m         \u001b[38;5;124m'\u001b[39m\u001b[38;5;124minitial_simplex\u001b[39m\u001b[38;5;124m'\u001b[39m: initial_simplex}\n\u001b[0;32m--> 695\u001b[0m res \u001b[38;5;241m=\u001b[39m \u001b[43m_minimize_neldermead\u001b[49m\u001b[43m(\u001b[49m\u001b[43mfunc\u001b[49m\u001b[43m,\u001b[49m\u001b[43m \u001b[49m\u001b[43mx0\u001b[49m\u001b[43m,\u001b[49m\u001b[43m \u001b[49m\u001b[43margs\u001b[49m\u001b[43m,\u001b[49m\u001b[43m \u001b[49m\u001b[43mcallback\u001b[49m\u001b[38;5;241;43m=\u001b[39;49m\u001b[43mcallback\u001b[49m\u001b[43m,\u001b[49m\u001b[43m \u001b[49m\u001b[38;5;241;43m*\u001b[39;49m\u001b[38;5;241;43m*\u001b[39;49m\u001b[43mopts\u001b[49m\u001b[43m)\u001b[49m\n\u001b[1;32m    696\u001b[0m \u001b[38;5;28;01mif\u001b[39;00m full_output:\n\u001b[1;32m    697\u001b[0m     retlist \u001b[38;5;241m=\u001b[39m res[\u001b[38;5;124m'\u001b[39m\u001b[38;5;124mx\u001b[39m\u001b[38;5;124m'\u001b[39m], res[\u001b[38;5;124m'\u001b[39m\u001b[38;5;124mfun\u001b[39m\u001b[38;5;124m'\u001b[39m], res[\u001b[38;5;124m'\u001b[39m\u001b[38;5;124mnit\u001b[39m\u001b[38;5;124m'\u001b[39m], res[\u001b[38;5;124m'\u001b[39m\u001b[38;5;124mnfev\u001b[39m\u001b[38;5;124m'\u001b[39m], res[\u001b[38;5;124m'\u001b[39m\u001b[38;5;124mstatus\u001b[39m\u001b[38;5;124m'\u001b[39m]\n",
      "File \u001b[0;32m/opt/homebrew/Caskroom/miniforge/base/lib/python3.9/site-packages/scipy/optimize/_optimize.py:870\u001b[0m, in \u001b[0;36m_minimize_neldermead\u001b[0;34m(func, x0, args, callback, maxiter, maxfev, disp, return_all, initial_simplex, xatol, fatol, adaptive, bounds, **unknown_options)\u001b[0m\n\u001b[1;32m    868\u001b[0m \u001b[38;5;28;01mif\u001b[39;00m bounds \u001b[38;5;129;01mis\u001b[39;00m \u001b[38;5;129;01mnot\u001b[39;00m \u001b[38;5;28;01mNone\u001b[39;00m:\n\u001b[1;32m    869\u001b[0m     xr \u001b[38;5;241m=\u001b[39m np\u001b[38;5;241m.\u001b[39mclip(xr, lower_bound, upper_bound)\n\u001b[0;32m--> 870\u001b[0m fxr \u001b[38;5;241m=\u001b[39m \u001b[43mfunc\u001b[49m\u001b[43m(\u001b[49m\u001b[43mxr\u001b[49m\u001b[43m)\u001b[49m\n\u001b[1;32m    871\u001b[0m doshrink \u001b[38;5;241m=\u001b[39m \u001b[38;5;241m0\u001b[39m\n\u001b[1;32m    873\u001b[0m \u001b[38;5;28;01mif\u001b[39;00m fxr \u001b[38;5;241m<\u001b[39m fsim[\u001b[38;5;241m0\u001b[39m]:\n",
      "File \u001b[0;32m/opt/homebrew/Caskroom/miniforge/base/lib/python3.9/site-packages/scipy/optimize/_optimize.py:569\u001b[0m, in \u001b[0;36m_wrap_scalar_function_maxfun_validation.<locals>.function_wrapper\u001b[0;34m(x, *wrapper_args)\u001b[0m\n\u001b[1;32m    567\u001b[0m ncalls[\u001b[38;5;241m0\u001b[39m] \u001b[38;5;241m+\u001b[39m\u001b[38;5;241m=\u001b[39m \u001b[38;5;241m1\u001b[39m\n\u001b[1;32m    568\u001b[0m \u001b[38;5;66;03m# A copy of x is sent to the user function (gh13740)\u001b[39;00m\n\u001b[0;32m--> 569\u001b[0m fx \u001b[38;5;241m=\u001b[39m \u001b[43mfunction\u001b[49m\u001b[43m(\u001b[49m\u001b[43mnp\u001b[49m\u001b[38;5;241;43m.\u001b[39;49m\u001b[43mcopy\u001b[49m\u001b[43m(\u001b[49m\u001b[43mx\u001b[49m\u001b[43m)\u001b[49m\u001b[43m,\u001b[49m\u001b[43m \u001b[49m\u001b[38;5;241;43m*\u001b[39;49m\u001b[43m(\u001b[49m\u001b[43mwrapper_args\u001b[49m\u001b[43m \u001b[49m\u001b[38;5;241;43m+\u001b[39;49m\u001b[43m \u001b[49m\u001b[43margs\u001b[49m\u001b[43m)\u001b[49m\u001b[43m)\u001b[49m\n\u001b[1;32m    570\u001b[0m \u001b[38;5;66;03m# Ideally, we'd like to a have a true scalar returned from f(x). For\u001b[39;00m\n\u001b[1;32m    571\u001b[0m \u001b[38;5;66;03m# backwards-compatibility, also allow np.array([1.3]),\u001b[39;00m\n\u001b[1;32m    572\u001b[0m \u001b[38;5;66;03m# np.array([[1.3]]) etc.\u001b[39;00m\n\u001b[1;32m    573\u001b[0m \u001b[38;5;28;01mif\u001b[39;00m \u001b[38;5;129;01mnot\u001b[39;00m np\u001b[38;5;241m.\u001b[39misscalar(fx):\n",
      "File \u001b[0;32m~/Library/Mobile Documents/com~apple~CloudDocs/PhD Studium/Eigene Papers/EstimationLandscape/Public Code/EstimationMethods.py:47\u001b[0m, in \u001b[0;36merror_psd\u001b[0;34m(params, n, observed_psd)\u001b[0m\n\u001b[1;32m     45\u001b[0m elambda_ \u001b[38;5;241m=\u001b[39m np\u001b[38;5;241m.\u001b[39mexp(lambda_)\n\u001b[1;32m     46\u001b[0m etheta_ \u001b[38;5;241m=\u001b[39m np\u001b[38;5;241m.\u001b[39mexp(theta_)\n\u001b[0;32m---> 47\u001b[0m cos_array \u001b[38;5;241m=\u001b[39m [np\u001b[38;5;241m.\u001b[39mcos(\u001b[38;5;241m2\u001b[39m\u001b[38;5;241m*\u001b[39mnp\u001b[38;5;241m.\u001b[39mpi\u001b[38;5;241m*\u001b[39mf) \u001b[38;5;28;01mfor\u001b[39;00m f \u001b[38;5;129;01min\u001b[39;00m fft\u001b[38;5;241m.\u001b[39mfftfreq(n)[\u001b[38;5;241m1\u001b[39m:\u001b[38;5;28mround\u001b[39m(n\u001b[38;5;241m/\u001b[39m\u001b[38;5;241m2\u001b[39m)]]\n\u001b[1;32m     48\u001b[0m \u001b[38;5;28;01mif\u001b[39;00m \u001b[38;5;28mabs\u001b[39m(lambda_ \u001b[38;5;241m-\u001b[39m theta_) \u001b[38;5;241m<\u001b[39m \u001b[38;5;241m0.01\u001b[39m:\n\u001b[1;32m     49\u001b[0m     theoretical_psd \u001b[38;5;241m=\u001b[39m np\u001b[38;5;241m.\u001b[39marray([kappa_ \u001b[38;5;241m*\u001b[39m\u001b[38;5;241m*\u001b[39m \u001b[38;5;241m2\u001b[39m \u001b[38;5;241m/\u001b[39m (\u001b[38;5;241m4\u001b[39m \u001b[38;5;241m*\u001b[39m lambda_\u001b[38;5;241m*\u001b[39m\u001b[38;5;241m*\u001b[39m\u001b[38;5;241m3\u001b[39m) \u001b[38;5;241m*\u001b[39m (\u001b[38;5;241m-\u001b[39mlambda_\u001b[38;5;241m-\u001b[39mcos_array[i]\u001b[38;5;241m*\u001b[39mnp\u001b[38;5;241m.\u001b[39msinh(lambda_) \u001b[38;5;241m+\u001b[39m\n\u001b[1;32m     50\u001b[0m                                                             np\u001b[38;5;241m.\u001b[39mcosh(lambda_) \u001b[38;5;241m*\u001b[39m (lambda_\u001b[38;5;241m*\u001b[39mcos_array[i] \u001b[38;5;241m+\u001b[39m\n\u001b[1;32m     51\u001b[0m                                                                                   np\u001b[38;5;241m.\u001b[39msinh(lambda_)))\n\u001b[1;32m     52\u001b[0m                                 \u001b[38;5;241m/\u001b[39m (cos_array[i]\u001b[38;5;241m-\u001b[39mnp\u001b[38;5;241m.\u001b[39mcosh(lambda_))\u001b[38;5;241m*\u001b[39m\u001b[38;5;241m*\u001b[39m\u001b[38;5;241m2\u001b[39m \u001b[38;5;28;01mfor\u001b[39;00m i \u001b[38;5;129;01min\u001b[39;00m \u001b[38;5;28mrange\u001b[39m(\u001b[38;5;28mlen\u001b[39m(cos_array))])\n",
      "File \u001b[0;32m~/Library/Mobile Documents/com~apple~CloudDocs/PhD Studium/Eigene Papers/EstimationLandscape/Public Code/EstimationMethods.py:47\u001b[0m, in \u001b[0;36m<listcomp>\u001b[0;34m(.0)\u001b[0m\n\u001b[1;32m     45\u001b[0m elambda_ \u001b[38;5;241m=\u001b[39m np\u001b[38;5;241m.\u001b[39mexp(lambda_)\n\u001b[1;32m     46\u001b[0m etheta_ \u001b[38;5;241m=\u001b[39m np\u001b[38;5;241m.\u001b[39mexp(theta_)\n\u001b[0;32m---> 47\u001b[0m cos_array \u001b[38;5;241m=\u001b[39m [\u001b[43mnp\u001b[49m\u001b[38;5;241;43m.\u001b[39;49m\u001b[43mcos\u001b[49m\u001b[43m(\u001b[49m\u001b[38;5;241;43m2\u001b[39;49m\u001b[38;5;241;43m*\u001b[39;49m\u001b[43mnp\u001b[49m\u001b[38;5;241;43m.\u001b[39;49m\u001b[43mpi\u001b[49m\u001b[38;5;241;43m*\u001b[39;49m\u001b[43mf\u001b[49m\u001b[43m)\u001b[49m \u001b[38;5;28;01mfor\u001b[39;00m f \u001b[38;5;129;01min\u001b[39;00m fft\u001b[38;5;241m.\u001b[39mfftfreq(n)[\u001b[38;5;241m1\u001b[39m:\u001b[38;5;28mround\u001b[39m(n\u001b[38;5;241m/\u001b[39m\u001b[38;5;241m2\u001b[39m)]]\n\u001b[1;32m     48\u001b[0m \u001b[38;5;28;01mif\u001b[39;00m \u001b[38;5;28mabs\u001b[39m(lambda_ \u001b[38;5;241m-\u001b[39m theta_) \u001b[38;5;241m<\u001b[39m \u001b[38;5;241m0.01\u001b[39m:\n\u001b[1;32m     49\u001b[0m     theoretical_psd \u001b[38;5;241m=\u001b[39m np\u001b[38;5;241m.\u001b[39marray([kappa_ \u001b[38;5;241m*\u001b[39m\u001b[38;5;241m*\u001b[39m \u001b[38;5;241m2\u001b[39m \u001b[38;5;241m/\u001b[39m (\u001b[38;5;241m4\u001b[39m \u001b[38;5;241m*\u001b[39m lambda_\u001b[38;5;241m*\u001b[39m\u001b[38;5;241m*\u001b[39m\u001b[38;5;241m3\u001b[39m) \u001b[38;5;241m*\u001b[39m (\u001b[38;5;241m-\u001b[39mlambda_\u001b[38;5;241m-\u001b[39mcos_array[i]\u001b[38;5;241m*\u001b[39mnp\u001b[38;5;241m.\u001b[39msinh(lambda_) \u001b[38;5;241m+\u001b[39m\n\u001b[1;32m     50\u001b[0m                                                             np\u001b[38;5;241m.\u001b[39mcosh(lambda_) \u001b[38;5;241m*\u001b[39m (lambda_\u001b[38;5;241m*\u001b[39mcos_array[i] \u001b[38;5;241m+\u001b[39m\n\u001b[1;32m     51\u001b[0m                                                                                   np\u001b[38;5;241m.\u001b[39msinh(lambda_)))\n\u001b[1;32m     52\u001b[0m                                 \u001b[38;5;241m/\u001b[39m (cos_array[i]\u001b[38;5;241m-\u001b[39mnp\u001b[38;5;241m.\u001b[39mcosh(lambda_))\u001b[38;5;241m*\u001b[39m\u001b[38;5;241m*\u001b[39m\u001b[38;5;241m2\u001b[39m \u001b[38;5;28;01mfor\u001b[39;00m i \u001b[38;5;129;01min\u001b[39;00m \u001b[38;5;28mrange\u001b[39m(\u001b[38;5;28mlen\u001b[39m(cos_array))])\n",
      "\u001b[0;31mKeyboardInterrupt\u001b[0m: "
     ]
    }
   ],
   "source": [
    "for n in ns:\n",
    "    print(n)\n",
    "    results_n = MethodComparisons.estimator_distributions(sample_size=sample_size, n=n, oversampling=oversampling, lambda_=lambda_, theta_=theta_, kappa_=kappa_, initial=[1,1,1], relevant_lags = 3)\n",
    "    results_against_n.append(results_n)"
   ]
  },
  {
   "cell_type": "code",
   "execution_count": null,
   "id": "8b4ed6e3",
   "metadata": {},
   "outputs": [],
   "source": [
    "sigmas_against_n = MethodComparisons.get_sigma_intervals(results_against_n=results_against_n, lambda_=lambda_, theta_=theta_, kappa_=kappa_)"
   ]
  },
  {
   "cell_type": "code",
   "execution_count": null,
   "id": "94d64345",
   "metadata": {},
   "outputs": [],
   "source": [
    "MethodComparisons.plot_interval_convergence(ns,sigmas_against_n)"
   ]
  }
 ],
 "metadata": {
  "kernelspec": {
   "display_name": "Python 3 (ipykernel)",
   "language": "python",
   "name": "python3"
  },
  "language_info": {
   "codemirror_mode": {
    "name": "ipython",
    "version": 3
   },
   "file_extension": ".py",
   "mimetype": "text/x-python",
   "name": "python",
   "nbconvert_exporter": "python",
   "pygments_lexer": "ipython3",
   "version": "3.9.7"
  }
 },
 "nbformat": 4,
 "nbformat_minor": 5
}
